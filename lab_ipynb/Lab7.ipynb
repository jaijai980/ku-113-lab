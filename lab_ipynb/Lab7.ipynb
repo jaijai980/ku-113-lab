{
 "cells": [
  {
   "cell_type": "markdown",
   "id": "bddf7611-299e-48b7-81bb-d5b373433095",
   "metadata": {},
   "source": [
    "<h1>Lab 7</h1>"
   ]
  },
  {
   "cell_type": "code",
   "execution_count": null,
   "id": "2dab9c4b-35b1-4604-ba3a-cb5dcaf5020e",
   "metadata": {},
   "outputs": [],
   "source": []
  }
 ],
 "metadata": {
  "kernelspec": {
   "display_name": "C",
   "language": "c",
   "name": "c"
  },
  "language_info": {
   "file_extension": ".c",
   "mimetype": "text/plain",
   "name": "c"
  }
 },
 "nbformat": 4,
 "nbformat_minor": 5
}

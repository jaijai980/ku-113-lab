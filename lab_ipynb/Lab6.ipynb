{
 "cells": [
  {
   "cell_type": "markdown",
   "id": "4934ce54-fb0d-4355-9baa-7b48c8172e6f",
   "metadata": {},
   "source": [
    "# Lab 6"
   ]
  },
  {
   "cell_type": "markdown",
   "id": "a5ad63ae-23f7-43ca-a0c1-e4494165a7ae",
   "metadata": {},
   "source": [
    "## 01 นับอักขระในสายอักขระ\n",
    "\n",
    "เขียนโปรแกรมภาษาซี รับ string เข้ามาหนึ่ง string ด้วย scanf() แล้วแสดงสระที่มีทั้งหมดใน string ดังกล่าวออกมา พร้อมกับแสดงจำนวนตัวอักขระที่เป็นสระด้วย ดังตัวอย่าง\n",
    "\n",
    "#### ตัวอย่างที่ 1\n",
    "```\n",
    "String (without a space): hello\n",
    "e o \n",
    "This string contains 2 vowels.\n",
    "```\n",
    "\n",
    "#### ตัวอย่างที่ 2\n",
    "```\n",
    "String (without a space): string\n",
    "i \n",
    "This string contains 1 vowel.\n",
    "```\n",
    "\n",
    "#### ตัวอย่างที่ 3\n",
    "```\n",
    "String (without a space): zzzZZ!\n",
    "\n",
    "This string contains 0 vowel.\n",
    "```\n"
   ]
  },
  {
   "cell_type": "markdown",
   "id": "13f1ef81-232d-4b06-914f-e865c8512647",
   "metadata": {},
   "source": [
    "```c\n",
    "#include <stdio.h>\n",
    "\n",
    "int main() {\n",
    "    char str[50];\n",
    "    int count = 0;\n",
    "\n",
    "    printf(\"String (without a space): \");\n",
    "    scanf(\"%s\", str);\n",
    "\n",
    "    for (int i = 0; str[i] != '\\0'; i++) {\n",
    "            switch(str[i]) {\n",
    "                case 'a':\n",
    "                case 'A':\n",
    "                case 'e':\n",
    "                case 'E':\n",
    "                case 'i':\n",
    "                case 'I':\n",
    "                case 'o':\n",
    "                case 'O':\n",
    "                case 'u':\n",
    "                case 'U':\n",
    "                    printf(\"%c \", str[i]);\n",
    "                    count++;\n",
    "        }\n",
    "    }\n",
    "\n",
    "    if (count < 2) {\n",
    "        printf(\"\\nThis string contains %d vowel.\\n\", count);\n",
    "    }\n",
    "    else {\n",
    "        printf(\"\\nThis string contains %d vowels.\\n\", count);\n",
    "    }\n",
    "}\n",
    "```\n"
   ]
  },
  {
   "cell_type": "markdown",
   "id": "5c64bc90-60a2-48a8-825d-ae6ba3c6e933",
   "metadata": {},
   "source": [
    "## 02 ลบสระออกจากสายอักขระ\n",
    "\n",
    "จงเขียนฟังก์ชันเพื่อลบสระที่ปรากฏในสายอักขระที่ส่งผ่านฟังก์ชันเข้ามาออกให้หมด\n",
    "\n",
    "#### ตัวอย่างที่ 1\n",
    "```\n",
    " Input: hello, world\n",
    "Output: hll, wrld\n",
    "```\n",
    "\n",
    "#### ตัวอย่างที่ 2\n",
    "```\n",
    " Input: abcdef 123456\n",
    "Output: bcdf 123456\n",
    "```\n"
   ]
  },
  {
   "cell_type": "markdown",
   "id": "ffd0f2eb-0c04-40a9-85b5-751a555dc4ad",
   "metadata": {},
   "source": [
    "```c\n",
    "int remove_vowel(char str[]) {\n",
    "    int i = 0, len;\n",
    "\n",
    "    for (len = 0; str[len] != '\\0'; len++);\n",
    "\n",
    "    while (str[i] != '\\0') {\n",
    "        if (str[i] == 'a' || str[i] == 'e' || str[i] == 'i' || str[i] == 'o' || str[i] == 'u' || str[i] == 'A' || str[i] == 'E' || str[i] == 'I' || str[i] == 'O' || str[i] == 'U') {\n",
    "            for (int j = i; j < len; j++) {\n",
    "                str[j] = str[j + 1];\n",
    "            }\n",
    "            continue;\n",
    "        }\n",
    "        i++;\n",
    "    }\n",
    "\n",
    "    return 0;\n",
    "}\n",
    "\n",
    "int main() {\n",
    "    char str[80];\n",
    "\n",
    "    printf(\" Input: \");\n",
    "    fgets(str, 80, stdin);\n",
    "\n",
    "    remove_vowel(str);\n",
    "    printf(\"Output: %s\\n\",str);\n",
    "\n",
    "    return 0;\n",
    "}\n",
    "```\n"
   ]
  }
 ],
 "metadata": {
  "kernelspec": {
   "display_name": "C",
   "language": "c",
   "name": "c"
  },
  "language_info": {
   "file_extension": ".c",
   "mimetype": "text/plain",
   "name": "c"
  }
 },
 "nbformat": 4,
 "nbformat_minor": 5
}

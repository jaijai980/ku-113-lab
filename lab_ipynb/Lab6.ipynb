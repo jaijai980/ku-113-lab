{
 "cells": [
  {
   "cell_type": "markdown",
   "id": "bddf7611-299e-48b7-81bb-d5b373433095",
   "metadata": {},
   "source": [
    "# Lab 6"
   ]
  }
 ],
 "metadata": {
  "kernelspec": {
   "display_name": "C",
   "language": "c",
   "name": "c"
  },
  "language_info": {
   "file_extension": ".c",
   "mimetype": "text/plain",
   "name": "c"
  }
 },
 "nbformat": 4,
 "nbformat_minor": 5
}

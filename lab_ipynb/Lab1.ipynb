{
 "cells": [
  {
   "cell_type": "markdown",
   "id": "08c9fbf3-04a3-46cc-92aa-1710dfbbbbb5",
   "metadata": {},
   "source": [
    "# Lab 1"
   ]
  },
  {
   "cell_type": "markdown",
   "id": "cbb84e1d-2730-4b3a-a1da-d79b5ae3fa65",
   "metadata": {},
   "source": [
    "## 01 คอมพิวเตอร์ทำงาน\n",
    "\n",
    "### คอมพิวเตอร์ทำงาน\n",
    "\n",
    "จงเขียนโปรแกรมเพื่อแสดงผลเวลาที่เครื่องคอมพิวเตอร์ทำงานในรูปของจำนวนวัน ชั่วโมง และนาที ตามลำดับ (ไม่ต้องคำนึงถึงการรับข้อมูลเข้า)\n",
    "\n",
    "เมื่อตัวแปร computer_time เก็บค่าจำนวนนาทีที่เครื่องคอมพิวเตอร์ทำงาน\n",
    "\n",
    "#### ตัวอย่างผลลัพธ์เมื่อ computer_time มีค่า 785\n",
    "`It is 0 days 13 hours and 5 minutes.`\n",
    "\n",
    "อธิบาย: คอมพิวเตอร์ทำงาน 785 นาที เท่ากับ 0 วัน 13 ชั่วโมง 5 นาที\n",
    "\n",
    "#### ตัวอย่างผลลัพธ์เมื่อ computer_time มีค่า 1678\n",
    "`It is 1 days 3 hours and 58 minutes.`\n",
    "\n",
    "อธิบาย: คอมพิวเตอร์ทำงาน 1678 นาที เท่ากับ 1 วัน 3 ชั่วโมง 58 นาที\n"
   ]
  },
  {
   "cell_type": "markdown",
   "id": "889a662f-d383-41e8-9118-74aa70879311",
   "metadata": {},
   "source": [
    "```c\n",
    "#include <stdio.h>\n",
    "int main() {\n",
    "    int computer_time = 785;\n",
    "    int days = 0;\n",
    "    int hours = 0;\n",
    "    while (computer_time >= 1440) {\n",
    "        days += 1;\n",
    "        computer_time -= 1440;\n",
    "    }\n",
    "    while (computer_time >= 60) {\n",
    "        hours += 1;\n",
    "        computer_time -= 60;\n",
    "    }\n",
    "    printf(\"It is %d days %d hours and %d minutes.\\n\", days, hours, computer_time);\n",
    "    return 0;\n",
    "```\n"
   ]
  },
  {
   "cell_type": "markdown",
   "id": "67486c1e-0162-4ba2-8e3d-056e2748aa25",
   "metadata": {},
   "source": [
    "## 02 Sphere Volume\n",
    "\n",
    "จงเขียนโปรแกรมเพื่อคำนวณค่าปริมาตร (volume) ของทรงกลม ในรูปแบบทศนิยม 2 ตำแหน่ง โดยค่ารัศมี (ตัวแปร radius) เป็นจำนวนจริง\n",
    "\n",
    "โดยใช้การคำนวณจากสูตร\n",
    "\n",
    "$$volume=\\frac{4}{3}\\times\\pi\\times{}{radius}^2$$\n",
    "\n",
    "กำหนดค่าคงที่ $$\\pi=\\frac{22}{7}$$\n",
    "\n",
    "#### ตัวอย่างผลลัพธ์ เมื่อตัวแปร radius มีค่า 1.5\n",
    "`The volume of this sphere is 14.14`\n"
   ]
  },
  {
   "cell_type": "markdown",
   "id": "7f079665-f6c8-4efe-89c4-9e0f48ff65cf",
   "metadata": {},
   "source": [
    "```c\n",
    "#include <stdio.h>\n",
    "#include <stdlib.h>\n",
    "\n",
    "// กำหนดค่าคงที่ PI มีค่า 22.0/7\n",
    "#define PI 22.0/7\n",
    "\n",
    "int main()\n",
    "{\n",
    "    float radius = 1.5;\n",
    "    float sphere_vol;\n",
    "\n",
    "    sphere_vol = (4.0 / 3.0) * PI * (radius * radius * radius);\n",
    "    \n",
    "    printf(\"The volume of this sphere is %.2f\\n\", sphere_vol);\n",
    "\n",
    "    return 0;\n",
    "}\n",
    "```\n"
   ]
  },
  {
   "cell_type": "markdown",
   "id": "aee68dd0-e82a-4047-8734-b1c4cafe4bcc",
   "metadata": {},
   "source": [
    "## 03 GPA Calculator\n",
    "\n",
    "เขียนโปรแกรมเพื่อหาจำนวนเกรดเฉลี่ยที่ต้องทำในเทอมนี้ เพื่อให้ได้เกรดเฉลี่ยรวมที่ต้องการ\n",
    "โดยตัวแปรเก็บค่าต่าง ๆ ดังนี้\n",
    "preGrade เก็บค่า เกรดเฉลี่ยสะสมที่ผ่านมา\n",
    "preCredit เก็บค่า หน่วยกิตสะสมที่คำนวณเกรดเฉลี่ยแล้ว\n",
    "credit เก็บค่า หน่วยกิตของเทอมนี้\n",
    "requiredGrade เก็บค่า เกรดเฉลี่ยรวมที่ต้องการ\n",
    "\n",
    "#### หมายเหตุ\n",
    "- เกรดเฉลี่ยที่คำนวณมาได้ แสดงเป็นทศนิยม 2 ตำแหน่ง\n",
    "- หน่วยกิตเป็นจำนวนเต็ม\n",
    "- เกรดเฉลี่ยที่คำนวณมาได้อาจมีค่าเกิน 4.00 (เพราะหวังสูง แต่ของเก่าไม่มากพอ)\n",
    "\n",
    "#### ตัวอย่างผลลัพธ์ของค่าที่ปรากฏในโปรแกรม\n",
    "`The GPA this semester should be 2.29`\n",
    "\n",
    "อธิบาย: ลงทะเบียนเรียนไปแล้ว 21 หน่วยกิต ได้เกรดเฉลี่ยสะสม 1.75 และในเทอมนี้ลงทะเบียนเรียน 18 หน่วยกิต ต้องการเกรดเฉลี่ยสะสม 2.00 จึงต้องทำเกรดเฉลี่ยเทอมนี้ให้ได้ 2.29\n"
   ]
  },
  {
   "cell_type": "markdown",
   "id": "531ddd33-2726-49a6-8a1e-1497bf1b14d8",
   "metadata": {},
   "source": [
    "```c\n",
    "#include <stdio.h>\n",
    "int main()\n",
    "{\n",
    "    float preGrade = 1.75;\n",
    "    int preCredit = 21;\n",
    "    int credit = 18;\n",
    "    float requiredGrade = 2.00;\n",
    "    float grade;\n",
    "\n",
    "    float currentPoints = preGrade * preCredit;\n",
    "    float targetPoints = requiredGrade * (preCredit + credit);\n",
    "    grade = (targetPoints - currentPoints) / credit;\n",
    "\n",
    "    printf(\"The GPA this semester should be %.2f\\n\", grade);\n",
    "    return 0;\n",
    "}\n",
    "```\n"
   ]
  },
  {
   "cell_type": "markdown",
   "id": "e81e6736-9a40-4c27-8d53-e0f4a1dc9236",
   "metadata": {},
   "source": [
    "## 04 Escape Sequence (เพิ่มเติม)\n",
    "\n",
    "#### Escape Sequence\n",
    "\n",
    "จงเติมคำสั่ง printf ข้างล่างให้มันพิมพ์ข้อความที่ปรากฏอยู่ที่ตารางช่องด้านซ้ายมือ\n",
    "\n",
    "| ผลลัพธ์                      | คำสั่ง printf                               |\n",
    "|----------------------------|-------------------------------------------|\n",
    "| x xx xxx  xx   x           | `printf(\"x\\nxx\\nxxx\\n xx\\n  x);`          |\n",
    "| printf(\"Hello, world\\n\");  | `printf(\"printf(\\\"Hello, world\\\\n\\\");\");` |"
   ]
  },
  {
   "cell_type": "markdown",
   "id": "7193608a-8ecf-4168-9378-2e87579880cb",
   "metadata": {},
   "source": [
    "## 05 ทอนเงิน (พิมพ์น้อยไปมาก)\n",
    "\n",
    "### ทอนเงิน (อย่างง่าย)\n",
    "\n",
    "สมมติว่ามีธนบัตรใบละ 50, 20, 5 และ 1 บาท ให้ตัวแปร amount เก็บค่าจำนวนเงินที่ต้องทอน (เป็นจำนวนเต็มเสมอ) แล้วแสดงผลลัพธ์เป็นจำนวนธนบัตรแต่ละชนิดที่ต้องทอน โดยกำหนดให้ทอนเป็นธนบัตรชนิดราคาสูงกว่าให้ได้มากที่สุดก่อน แต่ให้พิมพ์คำตอบเรียงลำดับจากธนบัตรชนิดราคาต่ำ ไปหาราคาสูงที่สุด\n",
    "\n",
    "#### ตัวอย่างผลลัพธ์เมื่อตัวแปร amount มีค่า 98\n",
    "```\n",
    "1: 3\n",
    "5: 1\n",
    "20: 2\n",
    "50: 1\n",
    "```\n",
    "\n",
    "#### ตัวอย่างผลลัพธ์เมื่อตัวแปร amount มีค่า 19\n",
    "```\n",
    "1: 4\n",
    "5: 3\n",
    "20: 0\n",
    "50: 0\n",
    "```\n",
    "\n",
    "#### ตัวอย่างผลลัพธ์เมื่อตัวแปร amount มีค่า 50\n",
    "```\n",
    "1: 0\n",
    "5: 0\n",
    "20: 0\n",
    "50: 1\n",
    "```\n",
    "\n",
    "พิมพ์โปรแกรมของคุณลงในช่องว่างข้างล่างนี้\n"
   ]
  },
  {
   "cell_type": "markdown",
   "id": "154dbd38-9aef-4261-919c-a4f2f45e41e5",
   "metadata": {},
   "source": [
    "```c\n",
    "#include <stdio.h>\n",
    "\n",
    "int main()\n",
    "{\n",
    "    int amount = ...;\n",
    "    int fifty = 0, twenty = 0, five = 0;\n",
    "    while (amount >= 50) {\n",
    "        fifty++;\n",
    "        amount -= 50;\n",
    "    }\n",
    "    while (amount >= 20) {\n",
    "        twenty++;\n",
    "        amount -= 20;\n",
    "    }\n",
    "    while (amount >= 5) {\n",
    "        five++;\n",
    "        amount -= 5;\n",
    "    }\n",
    "    printf(\"1: %d\\n5: %d\\n20: %d\\n50: %d\\n\", amount, five, twenty, fifty);\n",
    "    return 0;\n",
    "}\n",
    "```\n"
   ]
  }
 ],
 "metadata": {
  "kernelspec": {
   "display_name": "C",
   "language": "c",
   "name": "c"
  },
  "language_info": {
   "file_extension": ".c",
   "mimetype": "text/plain",
   "name": "c"
  }
 },
 "nbformat": 4,
 "nbformat_minor": 5
}
